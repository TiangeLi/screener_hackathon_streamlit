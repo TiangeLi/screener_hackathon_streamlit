{
 "cells": [
  {
   "cell_type": "code",
   "execution_count": 4,
   "metadata": {},
   "outputs": [],
   "source": [
    "from dotenv import load_dotenv\n",
    "load_dotenv(override=True)\n",
    "from langchain_openai import ChatOpenAI\n",
    "from langchain_core.prompts import ChatPromptTemplate\n",
    "\n",
    "from typing import TypedDict, Annotated, Literal, Optional\n",
    "\n",
    "class ExtractedStudyData(TypedDict):\n",
    "    data_sources: Annotated[Optional[str], ..., \"for each data collected, summarize what/where/when/who it was collected from\"]\n",
    "    study_design: Annotated[Optional[Literal[\"Cohort\", \"Case-control\", \"Cross-sectional\", \"\", \"Experimental\", \"Other\"]], ..., \"based on the data source, what is the type of study conducted?\"]\n",
    "    study_accrural_periods: Optional[str]\n",
    "    sample_size: Optional[int]\n",
    "    exposures: Annotated[Optional[str], ..., \"exposures, with the sources of the exposures if available\"]\n",
    "    exposure_ascertainment: Annotated[Optional[str], ..., \"i.e., how was the exposure measured / what was the data source?\"]\n",
    "    outcomes: Optional[str]\n",
    "    outcome_ascertainment: Annotated[Optional[str], ..., \"i.e., how was the outcome measured / what was the data source?\"]\n",
    "    all_results: Annotated[Optional[str], ..., \"results verbatim, including all stats and metrics where available\"]\n",
    "    conclusions: Optional[str]\n",
    "\n",
    "llm = ChatOpenAI(model=\"gpt-4o-mini\", temperature=0.2)\n",
    "\n",
    "template = \\\n",
    "\"\"\"Please very carefully extract the following data from the article. \n",
    "Be very meticulous and specific for each category. If information is not available for a category, please leave it blank.\n",
    "\n",
    "{article}\"\"\"\n",
    "\n",
    "prompt = ChatPromptTemplate([\n",
    "    (\"system\", template),\n",
    "])\n",
    "\n",
    "chain = prompt | llm.with_structured_output(ExtractedStudyData, method=\"json_schema\", strict=True)\n",
    "\n",
    "result = chain.invoke(\"\"\"\n",
    "Purpose: In this study we evaluated the risk of a second malignancy of the bladder or prostate in patients with a previous diagnosis of prostate cancer (PCa) or urothelial cancer (TCC). Material(s) and Method(s): We retrospectively analyzed all cases of PCa and TCC diagnosed between January 1996 and June 2003. Only PCa diagnosed due to abnormal digital rectal examination or increased prostate specific antigen were included. All patients with TCC presented with hematuria or irritative voiding symptoms and the diagnoses were confirmed with a tissue diagnosis. The incidence of lung, colon and renal cancers was also analyzed. Result(s): A total of 816 men were diagnosed with PCa and/or TCC. Of 673 men initially diagnosed with PCa 21 had TCC. Of 149 men initially diagnosed with TCC 18 had PCa. Average age at PCa and TCC diagnosis +/- SD was 68.2 +/- 7.9 and 68.2 +/- 10.4 years, respectively. The standardized incidence ratio (SIR) of TCC in patients with PCa (SIR 4.31, 95% CI 2.411 to 7.110) and of PCa in patients with TCC (SIR 3.83, 95% CI 1.911 to 6.858) was significantly increased. There was no statistical significant difference in SIR for TCC in men with or without radiotherapy. SIR for lung, renal or colon cancer was not significantly different from what was expected. Conclusion(s): Patients with PCa have higher incidence of bladder cancer and those with bladder cancer have a higher incidence of PCa. This study has clinical implications in the care of these patients and it may stimulate research interest that may identify common pathways of carcinogenesis. © 2008 American Urological Association.\n",
    "\"\"\")"
   ]
  },
  {
   "cell_type": "code",
   "execution_count": 5,
   "metadata": {},
   "outputs": [
    {
     "name": "stdout",
     "output_type": "stream",
     "text": [
      "data_sources Retrospective analysis of cases diagnosed with prostate cancer (PCa) and urothelial cancer (TCC) between January 1996 and June 2003.\n",
      "study_design Cohort\n",
      "study_accrural_periods January 1996 to June 2003\n",
      "sample_size 816\n",
      "exposures Previous diagnosis of prostate cancer (PCa) or urothelial cancer (TCC).\n",
      "exposure_ascertainment Diagnosis confirmed through abnormal digital rectal examination or increased prostate specific antigen for PCa; hematuria or irritative voiding symptoms for TCC with tissue diagnosis confirmation.\n",
      "outcomes Incidence of second malignancies (bladder cancer and prostate cancer) in patients with a previous diagnosis of PCa or TCC.\n",
      "outcome_ascertainment Standardized incidence ratio (SIR) calculated for TCC in patients with PCa and vice versa.\n",
      "all_results A total of 816 men were diagnosed with PCa and/or TCC. Of 673 men initially diagnosed with PCa, 21 had TCC. Of 149 men initially diagnosed with TCC, 18 had PCa. Average age at PCa and TCC diagnosis was 68.2 +/- 7.9 and 68.2 +/- 10.4 years, respectively. The SIR of TCC in patients with PCa was 4.31 (95% CI 2.411 to 7.110) and of PCa in patients with TCC was 3.83 (95% CI 1.911 to 6.858). No significant difference in SIR for TCC in men with or without radiotherapy. SIR for lung, renal, or colon cancer was not significantly different from expected.\n",
      "conclusions Patients with PCa have a higher incidence of bladder cancer and those with bladder cancer have a higher incidence of PCa. This study has clinical implications in the care of these patients and may stimulate research interest that may identify common pathways of carcinogenesis.\n"
     ]
    }
   ],
   "source": [
    "for k, v in result.items():\n",
    "    print(k, v)"
   ]
  },
  {
   "cell_type": "code",
   "execution_count": 6,
   "metadata": {},
   "outputs": [
    {
     "name": "stdout",
     "output_type": "stream",
     "text": [
      "{'include': False}\n"
     ]
    }
   ],
   "source": [
    "screening_question = \"What is the association between exposure to radiotherapy for prostate cancer and incidence/risk of second malignancy / second primary cancers?\"\n",
    "\n",
    "exclusion_criteria = \"non-clinical studies, editorials, review articles, case reports, conference abstracts, basic science papers, unclear comparator group, metastatic tumors, non-standard treatment for prostate cancer (such as cryotherapy), articles not dealing with radiation induced malignancy\"\n",
    "\n",
    "screening_prompt = \\\n",
    "\"\"\"Given the following article information, please decide if it should be included in the analysis, based on the screening question and exclusion criteria.\n",
    "\n",
    "<article>\n",
    "{article}\n",
    "</article>\n",
    "\n",
    "<screening_question>\n",
    "{screening_question}\n",
    "</screening_question>\n",
    "\n",
    "<exclusion_criteria>\n",
    "{exclusion_criteria}\n",
    "</exclusion_criteria>\"\"\"\n",
    "\n",
    "sr_prompt = ChatPromptTemplate([\n",
    "    (\"system\", screening_prompt),\n",
    "])\n",
    "\n",
    "class Inclusion(TypedDict):\n",
    "    include: bool\n",
    "\n",
    "sr_chain = sr_prompt | llm.with_structured_output(Inclusion, method=\"json_schema\", strict=True)\n",
    "\n",
    "result = sr_chain.invoke({\n",
    "    \"article\": result,\n",
    "    \"screening_question\": screening_question,\n",
    "    \"exclusion_criteria\": exclusion_criteria\n",
    "})\n",
    "\n",
    "print(result)"
   ]
  }
 ],
 "metadata": {
  "kernelspec": {
   "display_name": "Python 3",
   "language": "python",
   "name": "python3"
  },
  "language_info": {
   "codemirror_mode": {
    "name": "ipython",
    "version": 3
   },
   "file_extension": ".py",
   "mimetype": "text/x-python",
   "name": "python",
   "nbconvert_exporter": "python",
   "pygments_lexer": "ipython3",
   "version": "3.12.2"
  }
 },
 "nbformat": 4,
 "nbformat_minor": 2
}
